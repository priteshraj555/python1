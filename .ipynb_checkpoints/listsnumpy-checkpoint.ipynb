{
 "cells": [
  {
   "cell_type": "markdown",
   "id": "dbcb5ae8-a5b9-4618-8209-79ed1136c74d",
   "metadata": {},
   "source": [
    "# numpy "
   ]
  },
  {
   "cell_type": "code",
   "execution_count": null,
   "id": "1d24c238-73bc-487b-9c15-7f32f956751c",
   "metadata": {},
   "outputs": [],
   "source": [
    "#array {}\n",
    "1D\n",
    "2D\n",
    "3D\n"
   ]
  },
  {
   "cell_type": "code",
   "execution_count": null,
   "id": "3b6417e3-ad24-4804-8078-3a1e5929c173",
   "metadata": {},
   "outputs": [],
   "source": [
    "# creating array\n",
    "np.array{}\n",
    "np.arrange{}\n",
    "np.ones{}\n",
    "np.zeros{}\n",
    "np.full{}\n",
    "np.linespace{}"
   ]
  },
  {
   "cell_type": "markdown",
   "id": "a0e4d4e2-e043-405b-8581-6e6de9ed3827",
   "metadata": {},
   "source": [
    "#  Creating Array"
   ]
  },
  {
   "cell_type": "code",
   "execution_count": 7,
   "id": "b21f9e5f-7857-4d32-98a8-fe6d51d06352",
   "metadata": {},
   "outputs": [],
   "source": [
    "#np.array{}\n",
    "#it is used to create array with list,tuple, or set\n",
    "x={1,2,3,4}\n",
    "import numpy as np"
   ]
  },
  {
   "cell_type": "code",
   "execution_count": 8,
   "id": "e35249aa-65f0-4492-8767-d609fce2a6b2",
   "metadata": {},
   "outputs": [
    {
     "data": {
      "text/plain": [
       "array({1, 2, 3, 4}, dtype=object)"
      ]
     },
     "execution_count": 8,
     "metadata": {},
     "output_type": "execute_result"
    }
   ],
   "source": [
    "x_array= np.array(x)\n",
    "x_array"
   ]
  },
  {
   "cell_type": "code",
   "execution_count": 5,
   "id": "21562e7f-c32e-4606-8360-e270381859b9",
   "metadata": {},
   "outputs": [
    {
     "ename": "SyntaxError",
     "evalue": "incomplete input (4227852365.py, line 2)",
     "output_type": "error",
     "traceback": [
      "\u001b[1;36m  Cell \u001b[1;32mIn[5], line 2\u001b[1;36m\u001b[0m\n\u001b[1;33m    y={\u001b[0m\n\u001b[1;37m       ^\u001b[0m\n\u001b[1;31mSyntaxError\u001b[0m\u001b[1;31m:\u001b[0m incomplete input\n"
     ]
    }
   ],
   "source": [
    "#2D Array with np.array\n",
    "y={"
   ]
  },
  {
   "cell_type": "code",
   "execution_count": 9,
   "id": "c2436ef9-058b-44fd-93aa-a870b126bd88",
   "metadata": {},
   "outputs": [
    {
     "ename": "NameError",
     "evalue": "name 'array' is not defined",
     "output_type": "error",
     "traceback": [
      "\u001b[1;31m---------------------------------------------------------------------------\u001b[0m",
      "\u001b[1;31mNameError\u001b[0m                                 Traceback (most recent call last)",
      "Cell \u001b[1;32mIn[9], line 1\u001b[0m\n\u001b[1;32m----> 1\u001b[0m \u001b[43marray\u001b[49m([\u001b[38;5;241m1\u001b[39m,\u001b[38;5;241m4\u001b[39m,\u001b[38;5;241m7\u001b[39m,\u001b[38;5;241m10\u001b[39m,\u001b[38;5;241m13\u001b[39m,\u001b[38;5;241m16\u001b[39m,\u001b[38;5;241m19\u001b[39m])\n",
      "\u001b[1;31mNameError\u001b[0m: name 'array' is not defined"
     ]
    }
   ],
   "source": [
    "array([1,4,7,10,13,16,19])"
   ]
  },
  {
   "cell_type": "code",
   "execution_count": 10,
   "id": "ac4c2a36-8891-4d99-9399-d3f8d9d16f7d",
   "metadata": {},
   "outputs": [
    {
     "data": {
      "text/plain": [
       "array([1., 1., 1., 1., 1.])"
      ]
     },
     "execution_count": 10,
     "metadata": {},
     "output_type": "execute_result"
    }
   ],
   "source": [
    "# np.ones{}\n",
    "np.ones(5)"
   ]
  },
  {
   "cell_type": "code",
   "execution_count": 11,
   "id": "cd12dbd7-2ad1-479f-a4ae-c17fcbdc1b44",
   "metadata": {},
   "outputs": [
    {
     "data": {
      "text/plain": [
       "array([[1., 1., 1.],\n",
       "       [1., 1., 1.]])"
      ]
     },
     "execution_count": 11,
     "metadata": {},
     "output_type": "execute_result"
    }
   ],
   "source": [
    "np.ones([2,3])# creates ones array with 2*3 dimension"
   ]
  },
  {
   "cell_type": "code",
   "execution_count": 12,
   "id": "ebd59177-66c0-4135-81ec-8dd77b09e0dc",
   "metadata": {},
   "outputs": [
    {
     "data": {
      "text/plain": [
       "array([0., 0., 0., 0., 0.])"
      ]
     },
     "execution_count": 12,
     "metadata": {},
     "output_type": "execute_result"
    }
   ],
   "source": [
    "#np.zeros{}\n",
    "np.zeros(5)"
   ]
  },
  {
   "cell_type": "code",
   "execution_count": 13,
   "id": "a8c872ff-36f3-427d-857a-c11924b6146f",
   "metadata": {},
   "outputs": [
    {
     "data": {
      "text/plain": [
       "array([[0., 0., 0., 0., 0.],\n",
       "       [0., 0., 0., 0., 0.],\n",
       "       [0., 0., 0., 0., 0.],\n",
       "       [0., 0., 0., 0., 0.],\n",
       "       [0., 0., 0., 0., 0.]])"
      ]
     },
     "execution_count": 13,
     "metadata": {},
     "output_type": "execute_result"
    }
   ],
   "source": [
    "np.zeros([5,5])#creates zeros array with 5*5 dimension"
   ]
  },
  {
   "cell_type": "code",
   "execution_count": 14,
   "id": "1fc4391d-9dc6-4264-ac62-824195a30af6",
   "metadata": {},
   "outputs": [
    {
     "data": {
      "text/plain": [
       "array([5, 5, 5, 5, 5, 5, 5, 5, 5, 5, 5, 5, 5])"
      ]
     },
     "execution_count": 14,
     "metadata": {},
     "output_type": "execute_result"
    }
   ],
   "source": [
    "#np.fuul\n",
    "np.full(13,5)"
   ]
  },
  {
   "cell_type": "code",
   "execution_count": 16,
   "id": "d819abd0-3e62-4ec3-8406-bccbd39c65a2",
   "metadata": {},
   "outputs": [
    {
     "data": {
      "text/plain": [
       "array([[5, 5, 5],\n",
       "       [5, 5, 5]])"
      ]
     },
     "execution_count": 16,
     "metadata": {},
     "output_type": "execute_result"
    }
   ],
   "source": [
    "np.full((2,3),5)"
   ]
  },
  {
   "cell_type": "code",
   "execution_count": 17,
   "id": "01c07bab-9d98-41f2-9214-e5bb843d52e5",
   "metadata": {},
   "outputs": [
    {
     "data": {
      "text/plain": [
       "array([ 1.        ,  1.18367347,  1.36734694,  1.55102041,  1.73469388,\n",
       "        1.91836735,  2.10204082,  2.28571429,  2.46938776,  2.65306122,\n",
       "        2.83673469,  3.02040816,  3.20408163,  3.3877551 ,  3.57142857,\n",
       "        3.75510204,  3.93877551,  4.12244898,  4.30612245,  4.48979592,\n",
       "        4.67346939,  4.85714286,  5.04081633,  5.2244898 ,  5.40816327,\n",
       "        5.59183673,  5.7755102 ,  5.95918367,  6.14285714,  6.32653061,\n",
       "        6.51020408,  6.69387755,  6.87755102,  7.06122449,  7.24489796,\n",
       "        7.42857143,  7.6122449 ,  7.79591837,  7.97959184,  8.16326531,\n",
       "        8.34693878,  8.53061224,  8.71428571,  8.89795918,  9.08163265,\n",
       "        9.26530612,  9.44897959,  9.63265306,  9.81632653, 10.        ])"
      ]
     },
     "execution_count": 17,
     "metadata": {},
     "output_type": "execute_result"
    }
   ],
   "source": [
    "#np.linspace()\n",
    "np.linspace(1,10,50)"
   ]
  },
  {
   "cell_type": "markdown",
   "id": "0b4d3f24-bd2c-41cd-8d85-f115f3a05d03",
   "metadata": {},
   "source": [
    "# Arrtibutes of arrray"
   ]
  },
  {
   "cell_type": "raw",
   "id": "d5880d85-03e3-4b47-aaaa-9b7fe3d26190",
   "metadata": {},
   "source": [
    "shape\n",
    "size\n",
    "ndim()-number of dimenstion"
   ]
  },
  {
   "cell_type": "code",
   "execution_count": 19,
   "id": "a5cdc2d6-f0a4-40b0-bf03-b9bb771082a1",
   "metadata": {},
   "outputs": [
    {
     "data": {
      "text/plain": [
       "array([[13, 13, 13, 13, 13, 13],\n",
       "       [13, 13, 13, 13, 13, 13],\n",
       "       [13, 13, 13, 13, 13, 13],\n",
       "       [13, 13, 13, 13, 13, 13],\n",
       "       [13, 13, 13, 13, 13, 13]])"
      ]
     },
     "execution_count": 19,
     "metadata": {},
     "output_type": "execute_result"
    }
   ],
   "source": [
    "demo=np.full((5,6),13)\n",
    "demo"
   ]
  },
  {
   "cell_type": "code",
   "execution_count": 20,
   "id": "1ce31073-768b-4b47-848f-10d75c15dd5d",
   "metadata": {},
   "outputs": [
    {
     "data": {
      "text/plain": [
       "(5, 6)"
      ]
     },
     "execution_count": 20,
     "metadata": {},
     "output_type": "execute_result"
    }
   ],
   "source": [
    "demo.shape # return number of rows and columns"
   ]
  },
  {
   "cell_type": "code",
   "execution_count": 22,
   "id": "160b4b6b-099c-47dc-9a7f-e25718f7f454",
   "metadata": {},
   "outputs": [
    {
     "data": {
      "text/plain": [
       "30"
      ]
     },
     "execution_count": 22,
     "metadata": {},
     "output_type": "execute_result"
    }
   ],
   "source": [
    "#size o return the number if element i.e product of row and column\n",
    "demo.size"
   ]
  },
  {
   "cell_type": "code",
   "execution_count": 23,
   "id": "a21783fe-d932-495f-9221-6b2f8097729f",
   "metadata": {},
   "outputs": [
    {
     "data": {
      "text/plain": [
       "2"
      ]
     },
     "execution_count": 23,
     "metadata": {},
     "output_type": "execute_result"
    }
   ],
   "source": [
    "# indim - return the number if dimension\n",
    "demo.ndim"
   ]
  },
  {
   "cell_type": "markdown",
   "id": "a04e57b8-adc2-4252-8136-4b917359ebb2",
   "metadata": {},
   "source": [
    "#  reshaning and Resizing the array"
   ]
  },
  {
   "cell_type": "code",
   "execution_count": 32,
   "id": "74622f8b-45a8-4852-9482-a5a547cdc449",
   "metadata": {},
   "outputs": [],
   "source": [
    "x=list(range(2,6))\n",
    "y=list(range(3,7))\n",
    "z=list(range(4,8))"
   ]
  },
  {
   "cell_type": "code",
   "execution_count": 38,
   "id": "090a8a7b-09ff-4319-8dfd-186652d3f734",
   "metadata": {},
   "outputs": [
    {
     "data": {
      "text/plain": [
       "array([[2, 3, 4, 5],\n",
       "       [3, 4, 5, 6],\n",
       "       [4, 5, 6, 7]])"
      ]
     },
     "execution_count": 38,
     "metadata": {},
     "output_type": "execute_result"
    }
   ],
   "source": [
    "dx=np.array([x,y,z])\n",
    "dx"
   ]
  },
  {
   "cell_type": "code",
   "execution_count": 39,
   "id": "43510147-34b7-4329-9671-66430bad10bb",
   "metadata": {},
   "outputs": [
    {
     "data": {
      "text/plain": [
       "(3, 4)"
      ]
     },
     "execution_count": 39,
     "metadata": {},
     "output_type": "execute_result"
    }
   ],
   "source": [
    "dx.shape\n"
   ]
  },
  {
   "cell_type": "code",
   "execution_count": 40,
   "id": "7097924b-d737-43cf-8412-4535aeb5d7d4",
   "metadata": {},
   "outputs": [
    {
     "data": {
      "text/plain": [
       "array([[2, 3, 4, 5],\n",
       "       [3, 4, 5, 6],\n",
       "       [4, 5, 6, 7]])"
      ]
     },
     "execution_count": 40,
     "metadata": {},
     "output_type": "execute_result"
    }
   ],
   "source": [
    "dx=np.array([x,y,z])\n",
    "dx"
   ]
  },
  {
   "cell_type": "code",
   "execution_count": 41,
   "id": "22ec8937-e233-44c2-8ca1-ba6673ba0997",
   "metadata": {},
   "outputs": [
    {
     "data": {
      "text/plain": [
       "(3, 4)"
      ]
     },
     "execution_count": 41,
     "metadata": {},
     "output_type": "execute_result"
    }
   ],
   "source": [
    "dx.shape"
   ]
  },
  {
   "cell_type": "code",
   "execution_count": 42,
   "id": "1fbb3aaa-310a-4d0c-bae8-d1c2fc8eb1cb",
   "metadata": {},
   "outputs": [
    {
     "data": {
      "text/plain": [
       "array([[2, 3],\n",
       "       [4, 5],\n",
       "       [3, 4],\n",
       "       [5, 6],\n",
       "       [4, 5],\n",
       "       [6, 7]])"
      ]
     },
     "execution_count": 42,
     "metadata": {},
     "output_type": "execute_result"
    }
   ],
   "source": [
    "dx.reshape(6,2)"
   ]
  },
  {
   "cell_type": "markdown",
   "id": "830c9246-9a25-498c-8943-bd15a0d5358f",
   "metadata": {},
   "source": [
    "# Resize"
   ]
  },
  {
   "cell_type": "code",
   "execution_count": 43,
   "id": "9c30cf4b-88f7-4639-8686-0d83097a4383",
   "metadata": {},
   "outputs": [
    {
     "data": {
      "text/plain": [
       "array([[2, 3, 4, 5],\n",
       "       [3, 4, 5, 6],\n",
       "       [4, 5, 6, 7],\n",
       "       [2, 3, 4, 5]])"
      ]
     },
     "execution_count": 43,
     "metadata": {},
     "output_type": "execute_result"
    }
   ],
   "source": [
    "np.resize(dx,(4,4))"
   ]
  },
  {
   "cell_type": "markdown",
   "id": "eb05a67f-15e5-4603-a952-fb980b70280c",
   "metadata": {},
   "source": [
    "# Adding and Removing Dimension"
   ]
  },
  {
   "cell_type": "code",
   "execution_count": 44,
   "id": "4901e57d-d684-45fe-ac91-30638847d602",
   "metadata": {},
   "outputs": [
    {
     "data": {
      "text/plain": [
       "array([[2, 3, 4, 5],\n",
       "       [3, 4, 5, 6],\n",
       "       [4, 5, 6, 7]])"
      ]
     },
     "execution_count": 44,
     "metadata": {},
     "output_type": "execute_result"
    }
   ],
   "source": [
    "# create 2d\n",
    "dx"
   ]
  },
  {
   "cell_type": "code",
   "execution_count": 46,
   "id": "55e27b23-dc86-494c-8120-097764e92186",
   "metadata": {},
   "outputs": [
    {
     "data": {
      "text/plain": [
       "array([2, 3, 4, 5, 3, 4, 5, 6, 4, 5, 6, 7])"
      ]
     },
     "execution_count": 46,
     "metadata": {},
     "output_type": "execute_result"
    }
   ],
   "source": [
    "#cover into 1 D\n",
    "dx.flatten()"
   ]
  },
  {
   "cell_type": "code",
   "execution_count": 47,
   "id": "54c20385-2cee-47b1-8d85-1a8ddbb4828f",
   "metadata": {},
   "outputs": [
    {
     "data": {
      "text/plain": [
       "array([[[2, 3, 4, 5]],\n",
       "\n",
       "       [[3, 4, 5, 6]],\n",
       "\n",
       "       [[4, 5, 6, 7]]])"
      ]
     },
     "execution_count": 47,
     "metadata": {},
     "output_type": "execute_result"
    }
   ],
   "source": [
    "#conver 2D to 3D\n",
    "#expnd dims\n",
    "dx_3d=np.expand_dims(dx,axis=1)\n",
    "dx_3d"
   ]
  },
  {
   "cell_type": "code",
   "execution_count": 49,
   "id": "8bbd307a-e913-455a-9ea8-999b9efdcc74",
   "metadata": {},
   "outputs": [
    {
     "data": {
      "text/plain": [
       "array([[[2, 3, 4, 5],\n",
       "        [3, 4, 5, 6],\n",
       "        [4, 5, 6, 7]]])"
      ]
     },
     "execution_count": 49,
     "metadata": {},
     "output_type": "execute_result"
    }
   ],
   "source": [
    "np.expand_dims(dx,axis=0)"
   ]
  },
  {
   "cell_type": "code",
   "execution_count": 50,
   "id": "3af60f1e-e1a6-4e6c-8455-09fa01aa9524",
   "metadata": {},
   "outputs": [],
   "source": [
    "#convert 3d to 2D\n",
    "#squeze"
   ]
  },
  {
   "cell_type": "code",
   "execution_count": 51,
   "id": "2cbc5e22-b6f3-4fa4-99d9-d46ea7643363",
   "metadata": {},
   "outputs": [
    {
     "data": {
      "text/plain": [
       "array([[2, 3, 4, 5],\n",
       "       [3, 4, 5, 6],\n",
       "       [4, 5, 6, 7]])"
      ]
     },
     "execution_count": 51,
     "metadata": {},
     "output_type": "execute_result"
    }
   ],
   "source": [
    "np.squeeze(dx_3d)"
   ]
  },
  {
   "cell_type": "code",
   "execution_count": 52,
   "id": "19f9f375-b298-4535-88fd-f5bc9643c91b",
   "metadata": {},
   "outputs": [
    {
     "data": {
      "text/plain": [
       "(3, 1, 4)"
      ]
     },
     "execution_count": 52,
     "metadata": {},
     "output_type": "execute_result"
    }
   ],
   "source": [
    "dx_3d.shape"
   ]
  },
  {
   "cell_type": "markdown",
   "id": "77393ce5-12fd-42d1-9c5f-91f8561c7ac9",
   "metadata": {},
   "source": [
    "# Stacking the array"
   ]
  },
  {
   "cell_type": "code",
   "execution_count": null,
   "id": "be8db53c-c4bf-4395-b1c2-82346b02d773",
   "metadata": {},
   "outputs": [],
   "source": [
    "vstack\n",
    "hstack\n",
    "stack"
   ]
  },
  {
   "cell_type": "code",
   "execution_count": 54,
   "id": "2c63194a-2384-408b-a055-3cf562263942",
   "metadata": {},
   "outputs": [
    {
     "data": {
      "text/plain": [
       "array([[5, 5, 5, 5],\n",
       "       [5, 5, 5, 5],\n",
       "       [5, 5, 5, 5]])"
      ]
     },
     "execution_count": 54,
     "metadata": {},
     "output_type": "execute_result"
    }
   ],
   "source": [
    "dx=np.full((3,4),5)\n",
    "dx"
   ]
  },
  {
   "cell_type": "code",
   "execution_count": 56,
   "id": "70172d49-2f42-44ec-bcd7-3c387bab1b06",
   "metadata": {},
   "outputs": [
    {
     "data": {
      "text/plain": [
       "array([[6, 6, 6],\n",
       "       [6, 6, 6],\n",
       "       [6, 6, 6],\n",
       "       [6, 6, 6]])"
      ]
     },
     "execution_count": 56,
     "metadata": {},
     "output_type": "execute_result"
    }
   ],
   "source": [
    "dy=np.full((4,3),6)\n",
    "dy"
   ]
  },
  {
   "cell_type": "code",
   "execution_count": 57,
   "id": "e158cea1-1e6c-41ad-894a-f961b99cef00",
   "metadata": {},
   "outputs": [
    {
     "ename": "ValueError",
     "evalue": "all the input array dimensions except for the concatenation axis must match exactly, but along dimension 1, the array at index 0 has size 4 and the array at index 1 has size 3",
     "output_type": "error",
     "traceback": [
      "\u001b[1;31m---------------------------------------------------------------------------\u001b[0m",
      "\u001b[1;31mValueError\u001b[0m                                Traceback (most recent call last)",
      "Cell \u001b[1;32mIn[57], line 1\u001b[0m\n\u001b[1;32m----> 1\u001b[0m \u001b[43mnp\u001b[49m\u001b[38;5;241;43m.\u001b[39;49m\u001b[43mvstack\u001b[49m\u001b[43m(\u001b[49m\u001b[43m[\u001b[49m\u001b[43mdx\u001b[49m\u001b[43m,\u001b[49m\u001b[43mdy\u001b[49m\u001b[43m]\u001b[49m\u001b[43m)\u001b[49m\n",
      "File \u001b[1;32mD:\\New folder\\venv\\Lib\\site-packages\\numpy\\_core\\shape_base.py:292\u001b[0m, in \u001b[0;36mvstack\u001b[1;34m(tup, dtype, casting)\u001b[0m\n\u001b[0;32m    290\u001b[0m \u001b[38;5;28;01mif\u001b[39;00m \u001b[38;5;129;01mnot\u001b[39;00m \u001b[38;5;28misinstance\u001b[39m(arrs, \u001b[38;5;28mtuple\u001b[39m):\n\u001b[0;32m    291\u001b[0m     arrs \u001b[38;5;241m=\u001b[39m (arrs,)\n\u001b[1;32m--> 292\u001b[0m \u001b[38;5;28;01mreturn\u001b[39;00m \u001b[43m_nx\u001b[49m\u001b[38;5;241;43m.\u001b[39;49m\u001b[43mconcatenate\u001b[49m\u001b[43m(\u001b[49m\u001b[43marrs\u001b[49m\u001b[43m,\u001b[49m\u001b[43m \u001b[49m\u001b[38;5;241;43m0\u001b[39;49m\u001b[43m,\u001b[49m\u001b[43m \u001b[49m\u001b[43mdtype\u001b[49m\u001b[38;5;241;43m=\u001b[39;49m\u001b[43mdtype\u001b[49m\u001b[43m,\u001b[49m\u001b[43m \u001b[49m\u001b[43mcasting\u001b[49m\u001b[38;5;241;43m=\u001b[39;49m\u001b[43mcasting\u001b[49m\u001b[43m)\u001b[49m\n",
      "\u001b[1;31mValueError\u001b[0m: all the input array dimensions except for the concatenation axis must match exactly, but along dimension 1, the array at index 0 has size 4 and the array at index 1 has size 3"
     ]
    }
   ],
   "source": [
    "np.vstack([dx,dy])"
   ]
  },
  {
   "cell_type": "code",
   "execution_count": 58,
   "id": "5607ed03-127e-4b91-ba70-d52294699791",
   "metadata": {},
   "outputs": [
    {
     "data": {
      "text/plain": [
       "(3, 4)"
      ]
     },
     "execution_count": 58,
     "metadata": {},
     "output_type": "execute_result"
    }
   ],
   "source": [
    "dx.shape"
   ]
  },
  {
   "cell_type": "code",
   "execution_count": 60,
   "id": "7a4e539e-6b57-480e-8e06-556f43309420",
   "metadata": {},
   "outputs": [
    {
     "data": {
      "text/plain": [
       "(4, 3)"
      ]
     },
     "execution_count": 60,
     "metadata": {},
     "output_type": "execute_result"
    }
   ],
   "source": [
    "dy.shape"
   ]
  },
  {
   "cell_type": "code",
   "execution_count": 61,
   "id": "650b8f5a-fb1b-4392-98c5-40a376fbce9a",
   "metadata": {},
   "outputs": [],
   "source": [
    "dyT=dy.T"
   ]
  },
  {
   "cell_type": "code",
   "execution_count": 62,
   "id": "ddb70c7c-84dd-4cc3-8b36-65e317111069",
   "metadata": {},
   "outputs": [
    {
     "data": {
      "text/plain": [
       "array([[5, 5, 5, 5],\n",
       "       [5, 5, 5, 5],\n",
       "       [5, 5, 5, 5],\n",
       "       [6, 6, 6, 6],\n",
       "       [6, 6, 6, 6],\n",
       "       [6, 6, 6, 6]])"
      ]
     },
     "execution_count": 62,
     "metadata": {},
     "output_type": "execute_result"
    }
   ],
   "source": [
    "np.vstack([dx,dyT])"
   ]
  },
  {
   "cell_type": "code",
   "execution_count": 63,
   "id": "019090ab-827b-426f-aaa8-0fa4e666ffc9",
   "metadata": {},
   "outputs": [
    {
     "data": {
      "text/plain": [
       "array([[5, 5, 5, 5],\n",
       "       [5, 5, 5, 5],\n",
       "       [5, 5, 5, 5]])"
      ]
     },
     "execution_count": 63,
     "metadata": {},
     "output_type": "execute_result"
    }
   ],
   "source": [
    "#hstack\n",
    "dx"
   ]
  },
  {
   "cell_type": "code",
   "execution_count": 64,
   "id": "07a94fb4-154c-4855-921b-c67542f6987a",
   "metadata": {},
   "outputs": [
    {
     "data": {
      "text/plain": [
       "array([[6, 6, 6],\n",
       "       [6, 6, 6],\n",
       "       [6, 6, 6],\n",
       "       [6, 6, 6]])"
      ]
     },
     "execution_count": 64,
     "metadata": {},
     "output_type": "execute_result"
    }
   ],
   "source": [
    "dy"
   ]
  },
  {
   "cell_type": "code",
   "execution_count": 66,
   "id": "cf04fe71-dc8d-46de-b449-d99b319f6f95",
   "metadata": {},
   "outputs": [
    {
     "data": {
      "text/plain": [
       "array([[5, 5, 5, 5, 6, 6, 6, 6],\n",
       "       [5, 5, 5, 5, 6, 6, 6, 6],\n",
       "       [5, 5, 5, 5, 6, 6, 6, 6]])"
      ]
     },
     "execution_count": 66,
     "metadata": {},
     "output_type": "execute_result"
    }
   ],
   "source": [
    "np.hstack([dx,dyT])"
   ]
  },
  {
   "cell_type": "code",
   "execution_count": 71,
   "id": "0897cfaf-e2ae-46f2-b46a-2684fe2a86c5",
   "metadata": {},
   "outputs": [
    {
     "data": {
      "text/plain": [
       "array([[5, 5],\n",
       "       [5, 5]])"
      ]
     },
     "execution_count": 71,
     "metadata": {},
     "output_type": "execute_result"
    }
   ],
   "source": [
    "#create on array and perform hstack and dstack\n",
    "#distack()\n",
    "#create two dofferent array of same shape\n",
    "d1=np.full((2,2),5)\n",
    "d1"
   ]
  },
  {
   "cell_type": "code",
   "execution_count": 72,
   "id": "9b15d303-f599-4e40-b0cb-cf262bd952ea",
   "metadata": {},
   "outputs": [
    {
     "data": {
      "text/plain": [
       "array([[8, 8],\n",
       "       [8, 8]])"
      ]
     },
     "execution_count": 72,
     "metadata": {},
     "output_type": "execute_result"
    }
   ],
   "source": [
    "d2=np.full((2,2),8)\n",
    "d2\n"
   ]
  },
  {
   "cell_type": "code",
   "execution_count": 73,
   "id": "a38e85e6-97e6-47b7-a028-2a6eabd84ca8",
   "metadata": {},
   "outputs": [
    {
     "data": {
      "text/plain": [
       "array([[[5, 8],\n",
       "        [5, 8]],\n",
       "\n",
       "       [[5, 8],\n",
       "        [5, 8]]])"
      ]
     },
     "execution_count": 73,
     "metadata": {},
     "output_type": "execute_result"
    }
   ],
   "source": [
    "np.dstack([d1,d2])"
   ]
  },
  {
   "cell_type": "markdown",
   "id": "a327ae05-5178-414c-8700-d122192f4a4a",
   "metadata": {},
   "source": [
    "# Array Indexing and slicing"
   ]
  },
  {
   "cell_type": "markdown",
   "id": "817ca5a6-89d3-40a2-ba85-7447e8173c91",
   "metadata": {},
   "source": [
    "# Array Slicing"
   ]
  },
  {
   "cell_type": "code",
   "execution_count": 74,
   "id": "474c7626-e996-4ada-86aa-837a6e109d1d",
   "metadata": {},
   "outputs": [
    {
     "data": {
      "text/plain": [
       "array([ 1,  3,  5,  7,  9, 11, 13, 15, 17, 19])"
      ]
     },
     "execution_count": 74,
     "metadata": {},
     "output_type": "execute_result"
    }
   ],
   "source": [
    "da=np.arange(1,20,2)\n",
    "da"
   ]
  },
  {
   "cell_type": "code",
   "execution_count": 75,
   "id": "cfe5a173-75fa-4a5d-bc0b-af48f6fa8e2c",
   "metadata": {},
   "outputs": [
    {
     "data": {
      "text/plain": [
       "np.int64(1)"
      ]
     },
     "execution_count": 75,
     "metadata": {},
     "output_type": "execute_result"
    }
   ],
   "source": [
    "da[0]"
   ]
  },
  {
   "cell_type": "code",
   "execution_count": 76,
   "id": "a08e2dfd-e1d2-4fc1-9650-ec27ff4aa829",
   "metadata": {},
   "outputs": [
    {
     "data": {
      "text/plain": [
       "np.int64(19)"
      ]
     },
     "execution_count": 76,
     "metadata": {},
     "output_type": "execute_result"
    }
   ],
   "source": [
    "da[-1]"
   ]
  },
  {
   "cell_type": "code",
   "execution_count": 77,
   "id": "91d6083c-df83-4a4f-a80d-201cd42b5e7d",
   "metadata": {},
   "outputs": [
    {
     "data": {
      "text/plain": [
       "array([3, 5, 7, 9])"
      ]
     },
     "execution_count": 77,
     "metadata": {},
     "output_type": "execute_result"
    }
   ],
   "source": [
    "da[1:5]"
   ]
  },
  {
   "cell_type": "code",
   "execution_count": 79,
   "id": "0926bae9-0241-4469-86e1-67933a469e10",
   "metadata": {},
   "outputs": [
    {
     "data": {
      "text/plain": [
       "array([3, 9])"
      ]
     },
     "execution_count": 79,
     "metadata": {},
     "output_type": "execute_result"
    }
   ],
   "source": [
    "da[1:5:3]"
   ]
  },
  {
   "cell_type": "code",
   "execution_count": 80,
   "id": "0d80f83c-e180-43fe-9bc1-30877f83ab7d",
   "metadata": {},
   "outputs": [
    {
     "data": {
      "text/plain": [
       "[5, 10, 15, 20, 25]"
      ]
     },
     "execution_count": 80,
     "metadata": {},
     "output_type": "execute_result"
    }
   ],
   "source": [
    "# array slicing in 2d\n",
    "x=list(range(5,30,5))\n",
    "x"
   ]
  },
  {
   "cell_type": "code",
   "execution_count": 81,
   "id": "e939ab8b-6e77-48a7-aafd-e025cdeb672d",
   "metadata": {},
   "outputs": [
    {
     "data": {
      "text/plain": [
       "[6, 12, 18, 24, 30]"
      ]
     },
     "execution_count": 81,
     "metadata": {},
     "output_type": "execute_result"
    }
   ],
   "source": [
    "y=list(range(6,36,6))\n",
    "y"
   ]
  },
  {
   "cell_type": "code",
   "execution_count": 82,
   "id": "00c314cd-d203-4c19-927b-49d33fffdcfa",
   "metadata": {},
   "outputs": [
    {
     "data": {
      "text/plain": [
       "[7, 14, 21, 28, 35]"
      ]
     },
     "execution_count": 82,
     "metadata": {},
     "output_type": "execute_result"
    }
   ],
   "source": [
    "z=list(range(7,42,7))\n",
    "z"
   ]
  },
  {
   "cell_type": "code",
   "execution_count": 83,
   "id": "88202482-fae9-46c3-9e0a-903b99da2e38",
   "metadata": {},
   "outputs": [],
   "source": [
    "demo=np.array([x,y,z])"
   ]
  },
  {
   "cell_type": "code",
   "execution_count": 84,
   "id": "8d5682ef-9cea-42a2-81a5-888daf6dda86",
   "metadata": {},
   "outputs": [
    {
     "data": {
      "text/plain": [
       "array([[ 5, 10, 15, 20, 25],\n",
       "       [ 6, 12, 18, 24, 30],\n",
       "       [ 7, 14, 21, 28, 35]])"
      ]
     },
     "execution_count": 84,
     "metadata": {},
     "output_type": "execute_result"
    }
   ],
   "source": [
    "demo"
   ]
  },
  {
   "cell_type": "code",
   "execution_count": 85,
   "id": "7f09793b-bdc2-4633-839b-6012f771d9ce",
   "metadata": {},
   "outputs": [
    {
     "data": {
      "text/plain": [
       "np.int64(24)"
      ]
     },
     "execution_count": 85,
     "metadata": {},
     "output_type": "execute_result"
    }
   ],
   "source": [
    "demo[1,3]"
   ]
  },
  {
   "cell_type": "code",
   "execution_count": 86,
   "id": "980d630c-31d3-433b-ab38-fc9376118336",
   "metadata": {},
   "outputs": [
    {
     "data": {
      "text/plain": [
       "array([18, 24, 30])"
      ]
     },
     "execution_count": 86,
     "metadata": {},
     "output_type": "execute_result"
    }
   ],
   "source": [
    "demo[1,2:5]"
   ]
  },
  {
   "cell_type": "code",
   "execution_count": 87,
   "id": "e1e6fe35-c7ab-4a92-ab66-d6c8064bdf2a",
   "metadata": {},
   "outputs": [
    {
     "data": {
      "text/plain": [
       "array([[18, 24, 30],\n",
       "       [21, 28, 35]])"
      ]
     },
     "execution_count": 87,
     "metadata": {},
     "output_type": "execute_result"
    }
   ],
   "source": [
    "demo[1:4,2:5]"
   ]
  },
  {
   "cell_type": "code",
   "execution_count": 90,
   "id": "be345609-0a13-4a0f-93ba-3d0b39fbee39",
   "metadata": {},
   "outputs": [
    {
     "data": {
      "text/plain": [
       "array([ 5, 10, 15, 20, 25, 30, 35])"
      ]
     },
     "execution_count": 90,
     "metadata": {},
     "output_type": "execute_result"
    }
   ],
   "source": [
    "# filter all the values division by 5 from given array\n",
    "demo[demo%5==0]"
   ]
  },
  {
   "cell_type": "code",
   "execution_count": 91,
   "id": "96ef31f3-acaa-450e-9024-3069b438068f",
   "metadata": {},
   "outputs": [
    {
     "data": {
      "text/plain": [
       "array([25, 24, 30, 21, 28, 35])"
      ]
     },
     "execution_count": 91,
     "metadata": {},
     "output_type": "execute_result"
    }
   ],
   "source": [
    "#filter all number greater than 20\n",
    "demo[demo>20]"
   ]
  },
  {
   "cell_type": "code",
   "execution_count": 92,
   "id": "b1c795e6-6d79-4f16-adba-7b52d52a7d5f",
   "metadata": {},
   "outputs": [
    {
     "data": {
      "text/plain": [
       "(array([0, 1, 1, 2, 2, 2]), array([4, 3, 4, 2, 3, 4]))"
      ]
     },
     "execution_count": 92,
     "metadata": {},
     "output_type": "execute_result"
    }
   ],
   "source": [
    "#np.where() return the indexes rhat  satisfy the given conditionn\n",
    "np.where(demo>20)"
   ]
  },
  {
   "cell_type": "code",
   "execution_count": 97,
   "id": "7cdaca36-2e8a-4be3-84f0-bd5d10610ff8",
   "metadata": {},
   "outputs": [
    {
     "data": {
      "text/plain": [
       "array([25, 24, 30, 21, 28, 35])"
      ]
     },
     "execution_count": 97,
     "metadata": {},
     "output_type": "execute_result"
    }
   ],
   "source": [
    "demo[np.where(demo>20)]"
   ]
  },
  {
   "cell_type": "markdown",
   "id": "cad4c6bf-2739-4243-a990-74493804b88d",
   "metadata": {},
   "source": [
    "# Arithmetic Operation in Array"
   ]
  },
  {
   "cell_type": "code",
   "execution_count": 98,
   "id": "bca40a9f-2fce-4618-b291-f7d06b7da01a",
   "metadata": {},
   "outputs": [
    {
     "data": {
      "text/plain": [
       "array([[ 5, 10, 15, 20, 25],\n",
       "       [ 6, 12, 18, 24, 30],\n",
       "       [ 7, 14, 21, 28, 35]])"
      ]
     },
     "execution_count": 98,
     "metadata": {},
     "output_type": "execute_result"
    }
   ],
   "source": [
    "demo"
   ]
  },
  {
   "cell_type": "code",
   "execution_count": 99,
   "id": "e63e9ceb-5d1a-4e8e-a153-24ff916e06f3",
   "metadata": {},
   "outputs": [
    {
     "data": {
      "text/plain": [
       "array([[10, 15, 20, 25, 30],\n",
       "       [11, 17, 23, 29, 35],\n",
       "       [12, 19, 26, 33, 40]])"
      ]
     },
     "execution_count": 99,
     "metadata": {},
     "output_type": "execute_result"
    }
   ],
   "source": [
    "demo+5"
   ]
  },
  {
   "cell_type": "code",
   "execution_count": 100,
   "id": "4aca8664-d884-4503-9011-dcef1b0860c5",
   "metadata": {},
   "outputs": [
    {
     "data": {
      "text/plain": [
       "array([[1. , 2. , 3. , 4. , 5. ],\n",
       "       [1.2, 2.4, 3.6, 4.8, 6. ],\n",
       "       [1.4, 2.8, 4.2, 5.6, 7. ]])"
      ]
     },
     "execution_count": 100,
     "metadata": {},
     "output_type": "execute_result"
    }
   ],
   "source": [
    "demo/5"
   ]
  },
  {
   "cell_type": "code",
   "execution_count": 101,
   "id": "cec3988b-5d10-46cc-9713-90a33bfe36bd",
   "metadata": {},
   "outputs": [
    {
     "data": {
      "text/plain": [
       "array([[ 5, 10, 15, 20, 25],\n",
       "       [ 6, 12, 18, 24, 30],\n",
       "       [ 7, 14, 21, 28, 35]])"
      ]
     },
     "execution_count": 101,
     "metadata": {},
     "output_type": "execute_result"
    }
   ],
   "source": [
    "# Arithmetic operation between 2 arrays\n",
    "demo"
   ]
  },
  {
   "cell_type": "code",
   "execution_count": 102,
   "id": "ee3b806c-4f2b-4bde-a8cf-8ac205b291e6",
   "metadata": {},
   "outputs": [],
   "source": [
    "dx=demo[:,1:4]"
   ]
  },
  {
   "cell_type": "code",
   "execution_count": 103,
   "id": "cd3a9475-7501-4f6b-838f-3c4492b80bd8",
   "metadata": {},
   "outputs": [
    {
     "data": {
      "text/plain": [
       "array([[10, 15, 20],\n",
       "       [12, 18, 24],\n",
       "       [14, 21, 28]])"
      ]
     },
     "execution_count": 103,
     "metadata": {},
     "output_type": "execute_result"
    }
   ],
   "source": [
    "dx"
   ]
  },
  {
   "cell_type": "code",
   "execution_count": 104,
   "id": "5d09dd62-1f62-4948-88ed-37ce251b1351",
   "metadata": {},
   "outputs": [
    {
     "data": {
      "text/plain": [
       "array([[10, 15, 20],\n",
       "       [12, 18, 24],\n",
       "       [14, 21, 28]])"
      ]
     },
     "execution_count": 104,
     "metadata": {},
     "output_type": "execute_result"
    }
   ],
   "source": [
    "dy=demo[:,1:4]\n",
    "dy"
   ]
  },
  {
   "cell_type": "code",
   "execution_count": 105,
   "id": "2fc4b83b-ccf7-4986-87e4-657c10a915c9",
   "metadata": {},
   "outputs": [
    {
     "data": {
      "text/plain": [
       "array([[20, 30, 40],\n",
       "       [24, 36, 48],\n",
       "       [28, 42, 56]])"
      ]
     },
     "execution_count": 105,
     "metadata": {},
     "output_type": "execute_result"
    }
   ],
   "source": [
    "dx+dy"
   ]
  },
  {
   "cell_type": "code",
   "execution_count": 107,
   "id": "0ce627da-f7cc-473e-a24e-c2cff8d9b06f",
   "metadata": {},
   "outputs": [
    {
     "data": {
      "text/plain": [
       "array([0, 1, 2, 3])"
      ]
     },
     "execution_count": 107,
     "metadata": {},
     "output_type": "execute_result"
    }
   ],
   "source": [
    "d=np.arange(4)\n",
    "d"
   ]
  },
  {
   "cell_type": "code",
   "execution_count": null,
   "id": "aa2e95c5-b459-40c4-aa59-4919be3bb3e1",
   "metadata": {},
   "outputs": [],
   "source": [
    "#to add_between two or more array"
   ]
  },
  {
   "cell_type": "markdown",
   "id": "381ca335-3079-42f2-b780-481c985f68fe",
   "metadata": {},
   "source": [
    "# Random NUMBER"
   ]
  },
  {
   "cell_type": "code",
   "execution_count": 109,
   "id": "9cf34718-08cc-438c-aeb7-d297bfb1e1b5",
   "metadata": {},
   "outputs": [],
   "source": [
    "options=[1,2,3,4,5,6]\n"
   ]
  },
  {
   "cell_type": "code",
   "execution_count": null,
   "id": "1c133453-a9b0-4ef3-a028-8cf66c0b88be",
   "metadata": {},
   "outputs": [],
   "source": []
  },
  {
   "cell_type": "code",
   "execution_count": 110,
   "id": "fe3fc68b-063a-41d8-af02-b1d789b651d0",
   "metadata": {},
   "outputs": [
    {
     "data": {
      "text/plain": [
       "array([5, 4, 3])"
      ]
     },
     "execution_count": 110,
     "metadata": {},
     "output_type": "execute_result"
    }
   ],
   "source": [
    "np.random.choice(options,3)"
   ]
  },
  {
   "cell_type": "code",
   "execution_count": 112,
   "id": "3961026b-f52d-4c4c-9954-27a67181ee94",
   "metadata": {},
   "outputs": [
    {
     "data": {
      "text/plain": [
       "array([1, 3, 5])"
      ]
     },
     "execution_count": 112,
     "metadata": {},
     "output_type": "execute_result"
    }
   ],
   "source": [
    "np.random.choice(options,3,replace=False)"
   ]
  },
  {
   "cell_type": "code",
   "execution_count": 113,
   "id": "8ea09d6a-1517-4385-8608-8d5526c07017",
   "metadata": {},
   "outputs": [],
   "source": [
    "#randint"
   ]
  },
  {
   "cell_type": "code",
   "execution_count": 114,
   "id": "578d1454-7c5b-48e2-a2cb-1078e623e4b4",
   "metadata": {},
   "outputs": [
    {
     "data": {
      "text/plain": [
       "array([7, 6, 9, 2], dtype=int32)"
      ]
     },
     "execution_count": 114,
     "metadata": {},
     "output_type": "execute_result"
    }
   ],
   "source": [
    "np.random.randint(1,10,4)"
   ]
  },
  {
   "cell_type": "code",
   "execution_count": null,
   "id": "540a3a30-749e-4b85-b208-36af9fc00931",
   "metadata": {},
   "outputs": [],
   "source": []
  }
 ],
 "metadata": {
  "kernelspec": {
   "display_name": "Python 3 (ipykernel)",
   "language": "python",
   "name": "python3"
  },
  "language_info": {
   "codemirror_mode": {
    "name": "ipython",
    "version": 3
   },
   "file_extension": ".py",
   "mimetype": "text/x-python",
   "name": "python",
   "nbconvert_exporter": "python",
   "pygments_lexer": "ipython3",
   "version": "3.12.7"
  }
 },
 "nbformat": 4,
 "nbformat_minor": 5
}
