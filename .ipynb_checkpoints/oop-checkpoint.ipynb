{
 "cells": [
  {
   "cell_type": "code",
   "execution_count": 1,
   "id": "7acdcca9-0246-4a2d-b511-9dc59b749a02",
   "metadata": {},
   "outputs": [],
   "source": [
    "class Class_name:\n",
    "    pass"
   ]
  },
  {
   "cell_type": "code",
   "execution_count": 9,
   "id": "fe5e81f9-d45a-4548-8ac6-e249b65671e9",
   "metadata": {},
   "outputs": [],
   "source": [
    "class Dog:\n",
    "    pass"
   ]
  },
  {
   "cell_type": "code",
   "execution_count": 1,
   "id": "8b9321be-f6c1-4c5f-b3aa-55f6a3cb0fb8",
   "metadata": {},
   "outputs": [
    {
     "ename": "SyntaxError",
     "evalue": "invalid syntax (2953971606.py, line 3)",
     "output_type": "error",
     "traceback": [
      "\u001b[1;36m  Cell \u001b[1;32mIn[1], line 3\u001b[1;36m\u001b[0m\n\u001b[1;33m    def_init_(self,name,age):\u001b[0m\n\u001b[1;37m                            ^\u001b[0m\n\u001b[1;31mSyntaxError\u001b[0m\u001b[1;31m:\u001b[0m invalid syntax\n"
     ]
    }
   ],
   "source": [
    "class Dog:\n",
    "    breed='german'\n",
    "    def_init_(self,name,age):\n",
    "        self.name=name # instant Variable\n",
    "    self..age=age\n",
    "def show(self):\n",
    "    print(f\"breed :{dog.breed}\")\n",
    "    print(f\"Name :{self.name}\")\n",
    "    print(f\"Age :{self.age}\")\n",
    "\n",
    "    "
   ]
  },
  {
   "cell_type": "markdown",
   "id": "2ce23f16-b119-40e9-8626-430020aa2ae1",
   "metadata": {},
   "source": [
    "#example of inheritance"
   ]
  },
  {
   "cell_type": "code",
   "execution_count": null,
   "id": "48f49d58-b2f5-43c2-be73-35e5cecc422e",
   "metadata": {},
   "outputs": [],
   "source": [
    "class Bank:\n",
    "    b_name='Nabil bank'\n",
    "    b_code='9863'\n",
    "\n",
    "class branch(Bank):\n",
    "    location='kumaripati'\n",
    "    def_int_(self,manager,contact):\n",
    "        self.manager=manager\n",
    "        self.contact=contact\n",
    "\n",
    "def branch_info(self):\n",
    "    print(f\"Bank Name:{Bank.b_name}\")\n",
    "    print(f\"Location:{branch.location}\")\n",
    "    print(f\"Manager:{self.manager}\")"
   ]
  },
  {
   "cell_type": "code",
   "execution_count": 18,
   "id": "da5e515a-79f2-4821-ad24-59fc6a53759a",
   "metadata": {},
   "outputs": [
    {
     "ename": "IndentationError",
     "evalue": "expected an indented block after function definition on line 14 (918262085.py, line 15)",
     "output_type": "error",
     "traceback": [
      "\u001b[1;36m  Cell \u001b[1;32mIn[18], line 15\u001b[1;36m\u001b[0m\n\u001b[1;33m    class Branch(Bank):\u001b[0m\n\u001b[1;37m    ^\u001b[0m\n\u001b[1;31mIndentationError\u001b[0m\u001b[1;31m:\u001b[0m expected an indented block after function definition on line 14\n"
     ]
    }
   ],
   "source": [
    "#create a  class\n",
    "#create a class bank with a name and code 'nepal Bank.code 1233 create a method show_info to display bank name and code\n",
    "class Bank:\n",
    "    b_name='Napal bank'\n",
    "    b_code='1123'\n",
    "    \n",
    "    def show_info(self):\n",
    "        print(f\"Bank Name:{Bank.b_name}\")\n",
    "        print(f\"The code is:{Bank.b_code}\")\n",
    "\n",
    "        class Bank_Manager:\n",
    "            ceo=\"ram bahadur\"\n",
    "            chairman=\"ytsav\"\n",
    "            def show(self):\n",
    "                prin(f\"ceo:\n",
    "        class Branch(Bank):\n",
    "             location ='kumaripati'\n",
    "    def show(self):\n",
    "          print(f\"Bank Name:{Bank.b_name}\")\n",
    "          print(f\"The code is:{Bank.b_code}\")\n",
    "          print(f\"Branch Location;{Branch.location}\")\n",
    "    "
   ]
  },
  {
   "cell_type": "code",
   "execution_count": 7,
   "id": "dbb24f66-4672-4280-92fd-9263266a7d00",
   "metadata": {},
   "outputs": [
    {
     "name": "stdout",
     "output_type": "stream",
     "text": [
      "Bank Name:Napal bank\n",
      "The code is:1123\n"
     ]
    }
   ],
   "source": [
    "bank=Bank()\n",
    "bank.show_info"
   ]
  },
  {
   "cell_type": "code",
   "execution_count": 17,
   "id": "a29d5dcb-a31d-4722-b2b9-a910cf6a54a5",
   "metadata": {},
   "outputs": [],
   "source": [
    "#create a branch with  inherits the class Bank\n",
    "class Branch(Bank):\n",
    "    location='kumaripati'\n",
    "    def show(self):\n",
    "          print(f\"Bank Name:{Bank.b_name}\")\n",
    "          print(f\"The code is:{Bank.b_code}\")\n",
    "          print(f\"Branch Location;{Branch.location}\")\n",
    "        "
   ]
  },
  {
   "cell_type": "code",
   "execution_count": null,
   "id": "8f0a224b-7d68-4f3c-87eb-0176fe84b9a9",
   "metadata": {},
   "outputs": [],
   "source": []
  },
  {
   "cell_type": "markdown",
   "id": "1ab91294-373a-4ee0-a767-e35ecd89f96d",
   "metadata": {},
   "source": [
    " #method overloading"
   ]
  },
  {
   "cell_type": "code",
   "execution_count": 19,
   "id": "84311eba-d245-473e-a160-ae0dbfb4f888",
   "metadata": {},
   "outputs": [
    {
     "ename": "SyntaxError",
     "evalue": "expected '(' (2429218419.py, line 2)",
     "output_type": "error",
     "traceback": [
      "\u001b[1;36m  Cell \u001b[1;32mIn[19], line 2\u001b[1;36m\u001b[0m\n\u001b[1;33m    def method:\u001b[0m\n\u001b[1;37m              ^\u001b[0m\n\u001b[1;31mSyntaxError\u001b[0m\u001b[1;31m:\u001b[0m expected '('\n"
     ]
    }
   ],
   "source": [
    "class Xyz:\n",
    "    def method:\n",
    "\n",
    "class abc(Xyz):\n",
    "    def method1:\n",
    "\n",
    "class mno(Xyz):\n",
    "    def method2:\n",
    "    pass\n",
    "    def method3:"
   ]
  },
  {
   "cell_type": "code",
   "execution_count": 21,
   "id": "12f2f9eb-b2e0-4cb3-8587-fbb7566c0e1a",
   "metadata": {},
   "outputs": [],
   "source": [
    "# example for method overwriting\n",
    "class Parent:\n",
    "    def show_info(self):\n",
    "        return \"this is called from parent class\"\n",
    "class child1(Parent):\n",
    "    def show_info(self):\n",
    "        return \"this is from child cls\"\n",
    "class child2(Parent):\n",
    "    pass"
   ]
  },
  {
   "cell_type": "code",
   "execution_count": 22,
   "id": "752cfa3f-6f13-42d4-b84a-64a74b9d48e0",
   "metadata": {},
   "outputs": [],
   "source": [
    "in1=child1()\n"
   ]
  },
  {
   "cell_type": "code",
   "execution_count": 24,
   "id": "c009b1d1-af00-4cc6-8653-726e34ace274",
   "metadata": {},
   "outputs": [],
   "source": [
    "class Nepal:\n",
    "    def show_info(self):\n",
    "        return\"this is called from Nepal\"\n",
    "class Jankpur1(Nepal):\n",
    "    def show_info(self):\n",
    "        return \"this is from nepal\"\n",
    "class Janakpur2(Nepal):\n",
    "    pass"
   ]
  },
  {
   "cell_type": "code",
   "execution_count": 26,
   "id": "06522433-905e-4253-8f73-f40165553994",
   "metadata": {},
   "outputs": [
    {
     "data": {
      "text/plain": [
       "'this is called from Nepal'"
      ]
     },
     "execution_count": 26,
     "metadata": {},
     "output_type": "execute_result"
    }
   ],
   "source": [
    "a=Janakpur2()\n",
    "a.show_info()"
   ]
  },
  {
   "cell_type": "markdown",
   "id": "fb87f561-5fa2-4b24-8094-cc1d856d10fc",
   "metadata": {},
   "source": [
    "#DUCK typing"
   ]
  },
  {
   "cell_type": "code",
   "execution_count": 33,
   "id": "914861dd-c570-4f41-a3a0-e962f9f00bf7",
   "metadata": {},
   "outputs": [],
   "source": [
    "class Toyota:\n",
    "    def show_info(self):\n",
    "        print(\"the branch anme id toyota\")\n",
    "class BYD:\n",
    "    def show_info(self):\n",
    "        print( \"the brand name is BYD\")\n",
    "class MG:\n",
    "    def show_info(self):\n",
    "        print(\"the branch anme id MG\")\n",
    "\n",
    "def car_info(car):\n",
    "       car.brand_info()\n",
    "car1=Toyota()\n",
    "car2=BYD()\n",
    "car3=MG()"
   ]
  },
  {
   "cell_type": "code",
   "execution_count": 34,
   "id": "b2c3b364-5d7e-4a2e-b97a-a3a21bf52634",
   "metadata": {},
   "outputs": [
    {
     "ename": "AttributeError",
     "evalue": "'MG' object has no attribute 'brand_info'",
     "output_type": "error",
     "traceback": [
      "\u001b[1;31m---------------------------------------------------------------------------\u001b[0m",
      "\u001b[1;31mAttributeError\u001b[0m                            Traceback (most recent call last)",
      "Cell \u001b[1;32mIn[34], line 1\u001b[0m\n\u001b[1;32m----> 1\u001b[0m \u001b[43mcar_info\u001b[49m\u001b[43m(\u001b[49m\u001b[43mcar3\u001b[49m\u001b[43m)\u001b[49m\n",
      "Cell \u001b[1;32mIn[33], line 12\u001b[0m, in \u001b[0;36mcar_info\u001b[1;34m(car)\u001b[0m\n\u001b[0;32m     11\u001b[0m \u001b[38;5;28;01mdef\u001b[39;00m\u001b[38;5;250m \u001b[39m\u001b[38;5;21mcar_info\u001b[39m(car):\n\u001b[1;32m---> 12\u001b[0m        \u001b[43mcar\u001b[49m\u001b[38;5;241;43m.\u001b[39;49m\u001b[43mbrand_info\u001b[49m()\n",
      "\u001b[1;31mAttributeError\u001b[0m: 'MG' object has no attribute 'brand_info'"
     ]
    }
   ],
   "source": [
    "car_info(car3)"
   ]
  },
  {
   "cell_type": "code",
   "execution_count": 39,
   "id": "8872bd1d-0cd9-446c-add6-1d9784c1adde",
   "metadata": {},
   "outputs": [],
   "source": [
    "class Yamaha:\n",
    "    def show_info(self):\n",
    "        print(\"the branch anme id Yamaha\")\n",
    "class Honda:\n",
    "    def show_info(self):\n",
    "        print( \"the brand name is Honda\")\n",
    "class BMW:\n",
    "    def show_info(self):\n",
    "        print(\"the branch Name id BMW\")\n",
    "\n",
    "def bike_info(bike):\n",
    "       bike.brand_info()\n",
    "bike1=Yamaha()\n",
    "bike2=Honda()\n",
    "bike3=BMW()"
   ]
  },
  {
   "cell_type": "code",
   "execution_count": 40,
   "id": "1cfb461a-feb5-4945-b057-dfd5bcae11d7",
   "metadata": {},
   "outputs": [
    {
     "ename": "AttributeError",
     "evalue": "'BMW' object has no attribute 'brand_info'",
     "output_type": "error",
     "traceback": [
      "\u001b[1;31m---------------------------------------------------------------------------\u001b[0m",
      "\u001b[1;31mAttributeError\u001b[0m                            Traceback (most recent call last)",
      "Cell \u001b[1;32mIn[40], line 1\u001b[0m\n\u001b[1;32m----> 1\u001b[0m \u001b[43mbike_info\u001b[49m\u001b[43m(\u001b[49m\u001b[43mbike3\u001b[49m\u001b[43m)\u001b[49m\n",
      "Cell \u001b[1;32mIn[39], line 12\u001b[0m, in \u001b[0;36mbike_info\u001b[1;34m(bike)\u001b[0m\n\u001b[0;32m     11\u001b[0m \u001b[38;5;28;01mdef\u001b[39;00m\u001b[38;5;250m \u001b[39m\u001b[38;5;21mbike_info\u001b[39m(bike):\n\u001b[1;32m---> 12\u001b[0m        \u001b[43mbike\u001b[49m\u001b[38;5;241;43m.\u001b[39;49m\u001b[43mbrand_info\u001b[49m()\n",
      "\u001b[1;31mAttributeError\u001b[0m: 'BMW' object has no attribute 'brand_info'"
     ]
    }
   ],
   "source": [
    "bike_info(bike3)"
   ]
  },
  {
   "cell_type": "code",
   "execution_count": null,
   "id": "295f3ed2-bb77-4d1f-9249-a98825f4568d",
   "metadata": {},
   "outputs": [],
   "source": [
    "#create a file to read a text and count the blank spaces from thee text \n",
    "#write a script in python to read a file and create a dictionary of the words starting with vowel and consonant \n",
    "#write a sript in python to convert teo differrt liwstinto  a dictionary\n",
    "#wap scripts in pythin ot remive duplicate elements from the list\n",
    "#write a script to create two dofferent list from a dictionary"
   ]
  }
 ],
 "metadata": {
  "kernelspec": {
   "display_name": "Python 3 (ipykernel)",
   "language": "python",
   "name": "python3"
  },
  "language_info": {
   "codemirror_mode": {
    "name": "ipython",
    "version": 3
   },
   "file_extension": ".py",
   "mimetype": "text/x-python",
   "name": "python",
   "nbconvert_exporter": "python",
   "pygments_lexer": "ipython3",
   "version": "3.12.7"
  }
 },
 "nbformat": 4,
 "nbformat_minor": 5
}
