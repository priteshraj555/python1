{
 "cells": [
  {
   "cell_type": "code",
   "execution_count": 9,
   "id": "569a0b64-c907-4483-b9fe-3a8f4d8cb6f6",
   "metadata": {},
   "outputs": [
    {
     "name": "stdout",
     "output_type": "stream",
     "text": [
      "{1, 2, 4, 5}\n"
     ]
    }
   ],
   "source": [
    "x = (1, 2, 3)\n",
    "y = (3, 4, 5)\n",
    "\n",
    "# Convert tuples to sets\n",
    "x_set = set(x)\n",
    "y_set = set(y)\n",
    "\n",
    "# Now you can use symmetric_difference\n",
    "result = x_set.symmetric_difference(y_set)\n",
    "print(result)\n"
   ]
  },
  {
   "cell_type": "code",
   "execution_count": 8,
   "id": "477578c8-0cac-4d5a-81bc-6b95b9281296",
   "metadata": {},
   "outputs": [],
   "source": [
    "#method in string"
   ]
  },
  {
   "cell_type": "code",
   "execution_count": 10,
   "id": "a0398541-b152-474e-9bbf-ebf81a836741",
   "metadata": {},
   "outputs": [
    {
     "ename": "IndentationError",
     "evalue": "unexpected indent (2386133356.py, line 3)",
     "output_type": "error",
     "traceback": [
      "\u001b[1;36m  Cell \u001b[1;32mIn[10], line 3\u001b[1;36m\u001b[0m\n\u001b[1;33m    txt.title()\u001b[0m\n\u001b[1;37m    ^\u001b[0m\n\u001b[1;31mIndentationError\u001b[0m\u001b[1;31m:\u001b[0m unexpected indent\n"
     ]
    }
   ],
   "source": [
    "txt = \"Welcome to my world\"\n",
    "\n",
    " txt.title()"
   ]
  },
  {
   "cell_type": "code",
   "execution_count": 11,
   "id": "557254f5-e80d-4d96-88d3-35a42b89ec0a",
   "metadata": {},
   "outputs": [
    {
     "name": "stdout",
     "output_type": "stream",
     "text": [
      "True\n"
     ]
    }
   ],
   "source": [
    "txt = \"Hello, welcome to my world.\"\n",
    "\n",
    "x = txt.endswith(\".\")\n",
    "\n",
    "print(x)"
   ]
  },
  {
   "cell_type": "code",
   "execution_count": 25,
   "id": "7ef92da6-0947-43ec-92b7-00ae14363cf2",
   "metadata": {},
   "outputs": [
    {
     "name": "stdout",
     "output_type": "stream",
     "text": [
      "ankit, pritesh,raj ,chaudhary.\n"
     ]
    }
   ],
   "source": [
    "name= [\"ankit, pritesh,raj ,chaudhary\"]\n",
    "x =  txt.expandtabs(2)\n",
    "\n",
    "print(x)"
   ]
  },
  {
   "cell_type": "code",
   "execution_count": 26,
   "id": "a86b700b-1610-484a-83cd-b17d6efafdc1",
   "metadata": {},
   "outputs": [
    {
     "ename": "NameError",
     "evalue": "name 'names' is not defined",
     "output_type": "error",
     "traceback": [
      "\u001b[1;31m---------------------------------------------------------------------------\u001b[0m",
      "\u001b[1;31mNameError\u001b[0m                                 Traceback (most recent call last)",
      "Cell \u001b[1;32mIn[26], line 1\u001b[0m\n\u001b[1;32m----> 1\u001b[0m \u001b[38;5;28;01mfor\u001b[39;00m name \u001b[38;5;129;01min\u001b[39;00m \u001b[43mnames\u001b[49m:\n\u001b[0;32m      2\u001b[0m     \u001b[38;5;28;01mif\u001b[39;00m name\u001b[38;5;241m.\u001b[39mstartswith(\u001b[38;5;124m'\u001b[39m\u001b[38;5;124ma\u001b[39m\u001b[38;5;124m'\u001b[39m):\n\u001b[0;32m      3\u001b[0m         filtered\u001b[38;5;241m.\u001b[39mappend(name)\n",
      "\u001b[1;31mNameError\u001b[0m: name 'names' is not defined"
     ]
    }
   ],
   "source": [
    "for name in names:\n",
    "    if name.startswith('a'):\n",
    "        filtered.append(name)"
   ]
  },
  {
   "cell_type": "code",
   "execution_count": 22,
   "id": "7eadfcc8-ab67-4353-8efe-680c328797e4",
   "metadata": {},
   "outputs": [
    {
     "data": {
      "text/plain": [
       "2"
      ]
     },
     "execution_count": 22,
     "metadata": {},
     "output_type": "execute_result"
    }
   ],
   "source": [
    "x=\"kathmandu\"\n",
    "x.count('a')"
   ]
  },
  {
   "cell_type": "code",
   "execution_count": 27,
   "id": "859917d5-fd01-44d4-b35f-a0c24f17426f",
   "metadata": {},
   "outputs": [
    {
     "data": {
      "text/plain": [
       "'this is a newsaper'"
      ]
     },
     "execution_count": 27,
     "metadata": {},
     "output_type": "execute_result"
    }
   ],
   "source": [
    "x=\"this is a book\"\n",
    "x.replace(\"book\",\"newsaper\")"
   ]
  },
  {
   "cell_type": "code",
   "execution_count": 31,
   "id": "05ade092-d4cd-4c34-9110-34ddc856264a",
   "metadata": {},
   "outputs": [
    {
     "data": {
      "text/plain": [
       "['hello how aare you']"
      ]
     },
     "execution_count": 31,
     "metadata": {},
     "output_type": "execute_result"
    }
   ],
   "source": [
    "text=\"hello how aare you\"\n",
    "world_list= text.split(',')\n",
    "world_list"
   ]
  },
  {
   "cell_type": "code",
   "execution_count": 38,
   "id": "01bdaace-df82-4d45-99c0-396b93e5da13",
   "metadata": {},
   "outputs": [
    {
     "name": "stdout",
     "output_type": "stream",
     "text": [
      "['russia', 'bhutan']\n"
     ]
    }
   ],
   "source": [
    "countries=['nepal','india','china','russia','bhutan']\n",
    "long_countries=[country for country in countries if len(country)>5]\n",
    "print(long_countries)\n",
    "\n",
    "        "
   ]
  },
  {
   "cell_type": "code",
   "execution_count": null,
   "id": "794532d1-9b2f-40f0-b254-90e723797efe",
   "metadata": {},
   "outputs": [],
   "source": [
    "Dictionary\n",
    "list = ['europe','antratica','africa','asia']\n",
    "world=dict.framekeys"
   ]
  },
  {
   "cell_type": "code",
   "execution_count": 1,
   "id": "09e11815-1bc7-4b87-b101-3322a1b45fb2",
   "metadata": {},
   "outputs": [
    {
     "ename": "SyntaxError",
     "evalue": "incomplete input (4258568825.py, line 1)",
     "output_type": "error",
     "traceback": [
      "\u001b[1;36m  Cell \u001b[1;32mIn[1], line 1\u001b[1;36m\u001b[0m\n\u001b[1;33m    dct_values(['biratnagar','janakpur'\u001b[0m\n\u001b[1;37m                                       ^\u001b[0m\n\u001b[1;31mSyntaxError\u001b[0m\u001b[1;31m:\u001b[0m incomplete input\n"
     ]
    }
   ],
   "source": [
    "dct_values(['biratnagar','janakpur'"
   ]
  },
  {
   "cell_type": "markdown",
   "id": "ca138f3a-f6fa-4557-9c00-3152e0952373",
   "metadata": {},
   "source": [
    "# dictionary\n"
   ]
  },
  {
   "cell_type": "code",
   "execution_count": 2,
   "id": "c1fb6910-e6e1-4816-b3ac-55b5167e15b0",
   "metadata": {},
   "outputs": [],
   "source": [
    "dicx={}"
   ]
  },
  {
   "cell_type": "code",
   "execution_count": 3,
   "id": "a5b06a89-6fec-40e3-96f5-84f21a3b3efb",
   "metadata": {},
   "outputs": [
    {
     "data": {
      "text/plain": [
       "{}"
      ]
     },
     "execution_count": 3,
     "metadata": {},
     "output_type": "execute_result"
    }
   ],
   "source": [
    "dicx"
   ]
  },
  {
   "cell_type": "code",
   "execution_count": 4,
   "id": "f6179544-4e5c-4b95-949a-13cdfa2e291d",
   "metadata": {},
   "outputs": [
    {
     "data": {
      "text/plain": [
       "{'tropical': 'mango'}"
      ]
     },
     "execution_count": 4,
     "metadata": {},
     "output_type": "execute_result"
    }
   ],
   "source": [
    "#example 2\n",
    "fruits={'tropical':'mango'}\n",
    "fruits"
   ]
  },
  {
   "cell_type": "code",
   "execution_count": 5,
   "id": "543621fe-3fab-47f2-8f5c-28eac56122d2",
   "metadata": {},
   "outputs": [],
   "source": [
    "#fontkey()\n",
    "keys=['asia','europe','africa','africa','samerica','america']"
   ]
  },
  {
   "cell_type": "code",
   "execution_count": 6,
   "id": "d6f7cc6d-3100-416d-ba4d-699cba2ed83e",
   "metadata": {},
   "outputs": [],
   "source": [
    "world={}"
   ]
  },
  {
   "cell_type": "code",
   "execution_count": 7,
   "id": "8089eda8-7d2a-4edd-b11f-9f0eb032b1b5",
   "metadata": {},
   "outputs": [],
   "source": [
    "world=world.fromkeys(keys)"
   ]
  },
  {
   "cell_type": "code",
   "execution_count": 8,
   "id": "0f212117-0e80-443e-8502-ae74f3972713",
   "metadata": {},
   "outputs": [
    {
     "data": {
      "text/plain": [
       "{'america': None,\n",
       " 'europe': None,\n",
       " 'africa': None,\n",
       " 'samerica': None,\n",
       " 'asia': None}"
      ]
     },
     "execution_count": 8,
     "metadata": {},
     "output_type": "execute_result"
    }
   ],
   "source": [
    "world"
   ]
  },
  {
   "cell_type": "code",
   "execution_count": 12,
   "id": "ff08cafe-a1df-4d97-be8d-130840ecec51",
   "metadata": {},
   "outputs": [],
   "source": [
    "nepal={'prov1':'biratnagar','prov2':'janakpur','prov3':'heatauda','prov4:':'pokhara'}\n"
   ]
  },
  {
   "cell_type": "code",
   "execution_count": 13,
   "id": "58eafbd4-8a96-4fe6-b604-86a5e6363ac0",
   "metadata": {},
   "outputs": [
    {
     "data": {
      "text/plain": [
       "{'prov1': 'biratnagar',\n",
       " 'prov2': 'janakpur',\n",
       " 'prov3': 'heatauda',\n",
       " 'prov4:': 'pokhara'}"
      ]
     },
     "execution_count": 13,
     "metadata": {},
     "output_type": "execute_result"
    }
   ],
   "source": [
    "nepal"
   ]
  },
  {
   "cell_type": "code",
   "execution_count": 14,
   "id": "dc68e362-68fe-475d-98c7-6cdb38218311",
   "metadata": {},
   "outputs": [
    {
     "data": {
      "text/plain": [
       "'biratnagar'"
      ]
     },
     "execution_count": 14,
     "metadata": {},
     "output_type": "execute_result"
    }
   ],
   "source": [
    "#get()+returns all the keys from the dictionary\n",
    "nepal.get('prov1')"
   ]
  },
  {
   "cell_type": "code",
   "execution_count": 15,
   "id": "cca8b091-e4d4-498d-9af6-b1c91b0cb286",
   "metadata": {},
   "outputs": [
    {
     "data": {
      "text/plain": [
       "dict_keys(['prov1', 'prov2', 'prov3', 'prov4:'])"
      ]
     },
     "execution_count": 15,
     "metadata": {},
     "output_type": "execute_result"
    }
   ],
   "source": [
    "#keys()=return all the keys from the dictionary\n",
    "nepal.keys()"
   ]
  },
  {
   "cell_type": "code",
   "execution_count": 16,
   "id": "1f652986-37cc-4f1d-a8b7-452c62afc43e",
   "metadata": {},
   "outputs": [
    {
     "data": {
      "text/plain": [
       "dict_values(['biratnagar', 'janakpur', 'heatauda', 'pokhara'])"
      ]
     },
     "execution_count": 16,
     "metadata": {},
     "output_type": "execute_result"
    }
   ],
   "source": [
    "#value=retyrn the value if each key in dictionary\n",
    "nepal.values()"
   ]
  },
  {
   "cell_type": "code",
   "execution_count": 17,
   "id": "ba53b048-d15e-4251-919d-84054f2e1adb",
   "metadata": {},
   "outputs": [
    {
     "data": {
      "text/plain": [
       "dict_items([('prov1', 'biratnagar'), ('prov2', 'janakpur'), ('prov3', 'heatauda'), ('prov4:', 'pokhara')])"
      ]
     },
     "execution_count": 17,
     "metadata": {},
     "output_type": "execute_result"
    }
   ],
   "source": [
    "#items()=return key - values pairs of the dictionary in from of tuple\n",
    "nepal.items()"
   ]
  },
  {
   "cell_type": "code",
   "execution_count": 18,
   "id": "3d508659-a1a3-4b5a-bdb6-cae7250d1ac1",
   "metadata": {},
   "outputs": [
    {
     "data": {
      "text/plain": [
       "'biratnagar'"
      ]
     },
     "execution_count": 18,
     "metadata": {},
     "output_type": "execute_result"
    }
   ],
   "source": [
    "#pop()=remove  specific keu from the dictionary\n",
    "nepal.pop('prov1')"
   ]
  },
  {
   "cell_type": "code",
   "execution_count": 19,
   "id": "f2895b22-4ffc-41aa-b83d-5c1eca0cd538",
   "metadata": {},
   "outputs": [
    {
     "data": {
      "text/plain": [
       "{'prov2': 'janakpur', 'prov3': 'heatauda', 'prov4:': 'pokhara'}"
      ]
     },
     "execution_count": 19,
     "metadata": {},
     "output_type": "execute_result"
    }
   ],
   "source": [
    "nepal"
   ]
  },
  {
   "cell_type": "code",
   "execution_count": 20,
   "id": "55197b3f-9836-4473-8994-b921d94aa7c6",
   "metadata": {},
   "outputs": [
    {
     "data": {
      "text/plain": [
       "('prov4:', 'pokhara')"
      ]
     },
     "execution_count": 20,
     "metadata": {},
     "output_type": "execute_result"
    }
   ],
   "source": [
    "#popitem()=removes  Key 'random' from the dictionary .'fom last'\n",
    "nepal.popitem()"
   ]
  },
  {
   "cell_type": "code",
   "execution_count": 21,
   "id": "1dc5e75a-9a9d-40ed-a6b8-134f0fc46dd7",
   "metadata": {},
   "outputs": [
    {
     "data": {
      "text/plain": [
       "{'prov2': 'janakpur', 'prov3': 'heatauda'}"
      ]
     },
     "execution_count": 21,
     "metadata": {},
     "output_type": "execute_result"
    }
   ],
   "source": [
    "nepal"
   ]
  },
  {
   "cell_type": "code",
   "execution_count": 22,
   "id": "c01aea7c-d11b-4634-a06c-c45433f582e3",
   "metadata": {},
   "outputs": [
    {
     "data": {
      "text/plain": [
       "'janakpur'"
      ]
     },
     "execution_count": 22,
     "metadata": {},
     "output_type": "execute_result"
    }
   ],
   "source": [
    "#set default()=IF key is already in he dictionary , then return the value\n",
    "nepal.setdefault('prov2')"
   ]
  },
  {
   "cell_type": "code",
   "execution_count": 23,
   "id": "7bff1da6-519e-448e-9cc1-921461aff5fe",
   "metadata": {},
   "outputs": [],
   "source": [
    "#remove()\n",
    "#discard()\n",
    "games={'indoor':'tabletennis','outdoor':'football','water':'swimming'}\n"
   ]
  },
  {
   "cell_type": "code",
   "execution_count": 25,
   "id": "8e88db49-95d0-4208-aaf7-35128689144c",
   "metadata": {},
   "outputs": [],
   "source": [
    "#update()\n",
    "games.update({'air':'paragliding'})"
   ]
  },
  {
   "cell_type": "code",
   "execution_count": 26,
   "id": "11147ef7-a51b-4a69-983b-d7883c90d796",
   "metadata": {},
   "outputs": [
    {
     "data": {
      "text/plain": [
       "{'indoor': 'tabletennis',\n",
       " 'outdoor': 'football',\n",
       " 'water': 'swimming',\n",
       " 'air': 'paragliding'}"
      ]
     },
     "execution_count": 26,
     "metadata": {},
     "output_type": "execute_result"
    }
   ],
   "source": [
    "games"
   ]
  },
  {
   "cell_type": "markdown",
   "id": "071b0711-3e1f-4ab1-bd8d-26a382b9076c",
   "metadata": {},
   "source": []
  },
  {
   "cell_type": "code",
   "execution_count": 28,
   "id": "ea73de0b-b9b0-4c50-af79-784c036bb6be",
   "metadata": {},
   "outputs": [
    {
     "data": {
      "text/plain": [
       "{'indoor': 'tabletennis',\n",
       " 'outdoor': 'football',\n",
       " 'water': 'swimming',\n",
       " 'air': 'paragliding'}"
      ]
     },
     "execution_count": 28,
     "metadata": {},
     "output_type": "execute_result"
    }
   ],
   "source": [
    "#copy()=return a new cop of dictionary\n",
    "new=games.copy()\n",
    "new"
   ]
  },
  {
   "cell_type": "code",
   "execution_count": 29,
   "id": "e0e5bed7-9de2-436a-890b-1f1e47525fe2",
   "metadata": {},
   "outputs": [],
   "source": [
    "#clear()=clear all the data in the dictionary\n",
    "games.clear()\n"
   ]
  },
  {
   "cell_type": "code",
   "execution_count": 30,
   "id": "cd05dcaa-d712-431e-8910-5ec34c587aff",
   "metadata": {},
   "outputs": [
    {
     "data": {
      "text/plain": [
       "{}"
      ]
     },
     "execution_count": 30,
     "metadata": {},
     "output_type": "execute_result"
    }
   ],
   "source": [
    "games"
   ]
  },
  {
   "cell_type": "markdown",
   "id": "155ae69b-a40a-43aa-a63a-a844a79e2938",
   "metadata": {},
   "source": [
    "#dictionary compreshion "
   ]
  },
  {
   "cell_type": "code",
   "execution_count": 31,
   "id": "c0196ee0-abf8-48c3-86e9-cd510264851c",
   "metadata": {},
   "outputs": [
    {
     "data": {
      "text/plain": [
       "[1, 2, 3, 4, 5]"
      ]
     },
     "execution_count": 31,
     "metadata": {},
     "output_type": "execute_result"
    }
   ],
   "source": [
    "#create a dictionary of nims with their squar\n",
    "nums= list(range(1,6))\n",
    "nums"
   ]
  },
  {
   "cell_type": "code",
   "execution_count": 35,
   "id": "4fcd1944-ab43-4fe2-a74e-f8d658f02221",
   "metadata": {},
   "outputs": [
    {
     "data": {
      "text/plain": [
       "{1: 1, 2: 4, 3: 9, 4: 16, 5: 25}"
      ]
     },
     "execution_count": 35,
     "metadata": {},
     "output_type": "execute_result"
    }
   ],
   "source": [
    "ditcx={num:num**2 for num in nums}\n",
    "ditcx"
   ]
  },
  {
   "cell_type": "code",
   "execution_count": null,
   "id": "c1566cc9-07bf-4f9a-b1b9-e649e37faf10",
   "metadata": {},
   "outputs": [],
   "source": []
  }
 ],
 "metadata": {
  "kernelspec": {
   "display_name": "Python 3 (ipykernel)",
   "language": "python",
   "name": "python3"
  },
  "language_info": {
   "codemirror_mode": {
    "name": "ipython",
    "version": 3
   },
   "file_extension": ".py",
   "mimetype": "text/x-python",
   "name": "python",
   "nbconvert_exporter": "python",
   "pygments_lexer": "ipython3",
   "version": "3.12.7"
  }
 },
 "nbformat": 4,
 "nbformat_minor": 5
}
